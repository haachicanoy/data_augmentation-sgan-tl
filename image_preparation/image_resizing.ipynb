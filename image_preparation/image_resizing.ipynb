{
 "cells": [
  {
   "cell_type": "code",
   "execution_count": 20,
   "metadata": {},
   "outputs": [
    {
     "name": "stdout",
     "output_type": "stream",
     "text": [
      "Cool ... nothing to do\n",
      "\n"
     ]
    }
   ],
   "source": [
    "import cv2\n",
    "import glob\n",
    "import os\n",
    "\n",
    "path  = 'D:/Data/Faces/young'\n",
    "res   = 512\n",
    "names = [x for x in os.listdir(path) if x.endswith('.jpg')]\n",
    "\n",
    "# Create output directory\n",
    "out = 'D:/Data/Faces/young_512'\n",
    "if os.path.isdir(out):\n",
    "    print('Cool ... nothing to do\\n')\n",
    "else:\n",
    "    try:\n",
    "        os.mkdir(out)\n",
    "    except OSError:\n",
    "        print('Creation of the directory %s failed' % out)\n",
    "    else:\n",
    "        print('Successfully created the directory %s ' % out)\n",
    "\n",
    "# Desired dimension\n",
    "dim = (res, res)\n",
    "for i in range(len(names)):\n",
    "    # Read image\n",
    "    img = cv2.imread(path + '/' + names[i], cv2.IMREAD_UNCHANGED)\n",
    "    # Resize image to desired dimension\n",
    "    rsz = cv2.resize(img, dim, interpolation = cv2.INTER_LANCZOS4)\n",
    "    # Save processed image\n",
    "    cv2.imwrite(out + '/' + names[i], rsz)\n"
   ]
  },
  {
   "cell_type": "code",
   "execution_count": null,
   "metadata": {},
   "outputs": [],
   "source": []
  }
 ],
 "metadata": {
  "kernelspec": {
   "display_name": "Python 3",
   "language": "python",
   "name": "python3"
  },
  "language_info": {
   "codemirror_mode": {
    "name": "ipython",
    "version": 3
   },
   "file_extension": ".py",
   "mimetype": "text/x-python",
   "name": "python",
   "nbconvert_exporter": "python",
   "pygments_lexer": "ipython3",
   "version": "3.6.9"
  }
 },
 "nbformat": 4,
 "nbformat_minor": 2
}
