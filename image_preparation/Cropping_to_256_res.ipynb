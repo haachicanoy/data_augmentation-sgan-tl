{
 "cells": [
  {
   "cell_type": "code",
   "execution_count": 1,
   "metadata": {},
   "outputs": [
    {
     "name": "stdout",
     "output_type": "stream",
     "text": [
      "Successfully created the directory D:/Data/Seeds/beans_hq_256_wht \n"
     ]
    }
   ],
   "source": [
    "from PIL import Image\n",
    "import glob\n",
    "import os\n",
    "\n",
    "path = 'D:/Data/Seeds/beans_hq_512_wht'\n",
    "files = [f for f in glob.glob(path + \"**/*.jpg\", recursive=False)]\n",
    "names = [x for x in os.listdir(path) if x.endswith(\".jpg\")]\n",
    "\n",
    "# Create output directory\n",
    "out = 'D:/Data/Seeds/beans_hq_256_wht'\n",
    "if os.path.isdir(out):\n",
    "    print(\"Cool ... nothing to do\\n\")\n",
    "else:\n",
    "    try:\n",
    "        os.mkdir(out)\n",
    "    except OSError:\n",
    "        print(\"Creation of the directory %s failed\" % out)\n",
    "    else:\n",
    "        print(\"Successfully created the directory %s \" % out)\n",
    "\n",
    "for i in range(len(files)):\n",
    "    # Read image\n",
    "    img = Image.open(files[i])\n",
    "    width, height = img.size\n",
    "    \n",
    "    # Define new dimensions\n",
    "    left   = (width  - 256)/2\n",
    "    top    = (height - 256)/2\n",
    "    right  = (width  + 256)/2\n",
    "    bottom = (height + 256)/2\n",
    "    \n",
    "    # Crop the image\n",
    "    img2 = img.crop((left, top, right, bottom))\n",
    "    \n",
    "    # Save the cropped image\n",
    "    img2.save(out+'/256_'+names[i])"
   ]
  },
  {
   "cell_type": "code",
   "execution_count": null,
   "metadata": {},
   "outputs": [],
   "source": []
  }
 ],
 "metadata": {
  "kernelspec": {
   "display_name": "Python 3",
   "language": "python",
   "name": "python3"
  },
  "language_info": {
   "codemirror_mode": {
    "name": "ipython",
    "version": 3
   },
   "file_extension": ".py",
   "mimetype": "text/x-python",
   "name": "python",
   "nbconvert_exporter": "python",
   "pygments_lexer": "ipython3",
   "version": "3.6.9"
  }
 },
 "nbformat": 4,
 "nbformat_minor": 2
}
