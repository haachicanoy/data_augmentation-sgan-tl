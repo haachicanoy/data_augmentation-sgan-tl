{
 "cells": [
  {
   "cell_type": "code",
   "execution_count": 12,
   "metadata": {},
   "outputs": [
    {
     "name": "stdout",
     "output_type": "stream",
     "text": [
      "Cool ... nothing to do\n",
      "\n"
     ]
    }
   ],
   "source": [
    "from PIL import Image\n",
    "import PIL\n",
    "import numpy as np\n",
    "import glob\n",
    "import os\n",
    "\n",
    "# Input\n",
    "path  = 'D:/Data/Faces/with_background/GVISFace_Age'\n",
    "\n",
    "# Output\n",
    "out = 'D:/Data/Faces/with_background/GVISFace_Age_512'\n",
    "if os.path.isdir(out):\n",
    "    print('Cool ... nothing to do\\n')\n",
    "else:\n",
    "    try:\n",
    "        os.mkdir(out)\n",
    "    except OSError:\n",
    "        print('Creation of the directory %s failed' % out)\n",
    "    else:\n",
    "        print('Successfully created the directory %s ' % out)\n",
    "\n",
    "# Function to complete dimensions with white color and produce a square image\n",
    "def make_square(img, min_size = 512, fill_color = (255,255,255)):\n",
    "    x, y = img.size\n",
    "    size = max(min_size, x, y)\n",
    "    new_img = Image.new('RGB', (size, size), fill_color)\n",
    "    new_img.paste(img, (int((size - x)/2), int((size - y)/2)))\n",
    "    return new_img\n",
    "\n",
    "# Process images\n",
    "desired_size = 512\n",
    "for i in range(0, 26):\n",
    "    names = [x for x in os.listdir(path + '/' + str(i)) if x.endswith('.jpg')]\n",
    "    for j in range(len(names)):\n",
    "        # Read images\n",
    "        im       = Image.open(path + '/' + str(i) + '/' + names[j])\n",
    "        old_size = im.size\n",
    "        ratio    = float(desired_size)/max(old_size)\n",
    "        new_size = tuple([int(x*ratio) for x in old_size])\n",
    "        im       = im.resize(new_size, Image.ANTIALIAS)\n",
    "        \n",
    "        new_im = Image.new(\"RGB\", (desired_size, desired_size))\n",
    "        new_im.paste(im, ((desired_size-new_size[0])//2,(desired_size-new_size[1])//2))\n",
    "        \n",
    "        new_im.save(out + '/' + str(i) + '_' + names[j])"
   ]
  }
 ],
 "metadata": {
  "kernelspec": {
   "display_name": "Python 3",
   "language": "python",
   "name": "python3"
  },
  "language_info": {
   "codemirror_mode": {
    "name": "ipython",
    "version": 3
   },
   "file_extension": ".py",
   "mimetype": "text/x-python",
   "name": "python",
   "nbconvert_exporter": "python",
   "pygments_lexer": "ipython3",
   "version": "3.6.9"
  }
 },
 "nbformat": 4,
 "nbformat_minor": 2
}
