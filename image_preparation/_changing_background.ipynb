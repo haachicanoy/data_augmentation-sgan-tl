{
 "cells": [
  {
   "cell_type": "code",
   "execution_count": 21,
   "metadata": {},
   "outputs": [
    {
     "name": "stdout",
     "output_type": "stream",
     "text": [
      "Cool ... nothing to do\n",
      "\n"
     ]
    }
   ],
   "source": [
    "import cv2\n",
    "import numpy as np\n",
    "import glob\n",
    "import os\n",
    "\n",
    "path = '/Volumes/BACKUP/Documents/Data/Beans/beans_hq_512'\n",
    "files = [f for f in glob.glob(path + \"**/*.jpg\", recursive=False)]\n",
    "names = [x for x in os.listdir(path) if x.endswith(\".jpg\")]\n",
    "\n",
    "# Create output directory\n",
    "out = '/Volumes/BACKUP/Documents/Data/Beans/beans_hq_512_wht'\n",
    "if os.path.isdir(out):\n",
    "    print(\"Cool ... nothing to do\\n\")\n",
    "else:\n",
    "    try:\n",
    "        os.mkdir(out)\n",
    "    except OSError:\n",
    "        print(\"Creation of the directory %s failed\" % out)\n",
    "    else:\n",
    "        print(\"Successfully created the directory %s \" % out)\n",
    "\n",
    "for i in range(len(files)):\n",
    "    # Read image\n",
    "    img = cv2.imread(files[i])\n",
    "    \n",
    "    # Create mask\n",
    "    lower_white = np.array([0, 0, 0], dtype=np.uint8)\n",
    "    upper_white = np.array([30, 30, 30], dtype=np.uint8)\n",
    "    mask = cv2.inRange(img, lower_white, upper_white)\n",
    "    \n",
    "    # Apply mask over original image\n",
    "    coloured = img.copy()\n",
    "    coloured[mask == 255] = (255, 255, 255)\n",
    "    \n",
    "    # Save an image\n",
    "    cv2.imwrite(out+'/'+names[i], coloured)"
   ]
  },
  {
   "cell_type": "code",
   "execution_count": null,
   "metadata": {},
   "outputs": [],
   "source": []
  }
 ],
 "metadata": {
  "kernelspec": {
   "display_name": "Python 3",
   "language": "python",
   "name": "python3"
  },
  "language_info": {
   "codemirror_mode": {
    "name": "ipython",
    "version": 3
   },
   "file_extension": ".py",
   "mimetype": "text/x-python",
   "name": "python",
   "nbconvert_exporter": "python",
   "pygments_lexer": "ipython3",
   "version": "3.6.9"
  }
 },
 "nbformat": 4,
 "nbformat_minor": 2
}
